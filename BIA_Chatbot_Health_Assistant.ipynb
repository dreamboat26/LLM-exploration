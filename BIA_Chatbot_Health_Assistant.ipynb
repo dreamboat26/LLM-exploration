{
  "nbformat": 4,
  "nbformat_minor": 0,
  "metadata": {
    "colab": {
      "provenance": [],
      "collapsed_sections": [
        "rrKGedKThBew"
      ]
    },
    "kernelspec": {
      "name": "python3",
      "display_name": "Python 3"
    }
  },
  "cells": [
    {
      "cell_type": "markdown",
      "metadata": {
        "id": "v0uMzRJyI4rl"
      },
      "source": [
        "# Thesis"
      ]
    },
    {
      "cell_type": "markdown",
      "metadata": {
        "id": "QywaKkucI9kl"
      },
      "source": [
        "\n",
        "Our topic is wearable devices. Wearable devices use sensors to keep track of your health, like your heart rate, how well you sleep, and how many steps you're taking. We are proposing a health assistant chatbot. This will help people by communicating with a wearable device to provide information about the current state of their health and give them recommendations for improving their health."
      ]
    },
    {
      "cell_type": "markdown",
      "metadata": {
        "id": "IR6k8FnaJXNU"
      },
      "source": [
        "# Intro to Sensors"
      ]
    },
    {
      "cell_type": "markdown",
      "metadata": {
        "id": "tYej53tgKw24"
      },
      "source": [
        "![image info](https://qtxasset.com/sensorsmag/1551378018/MARKET_2.jpg?TQH9kcXeJoOJ3F9N411tBAsOvcn1byFo)\n"
      ]
    },
    {
      "cell_type": "markdown",
      "metadata": {
        "id": "-Zdc1Wk1p70Y"
      },
      "source": [
        "A sensor is a device that detects and responds to some type of input from the physical environment. The specific input could be light, heat, motion, moisture, pressure, or any one of a great number of other environmental phenomena. The output is generally a signal that is converted to human-readable display at the sensor location or transmitted electronically over a network for reading or further processing."
      ]
    },
    {
      "cell_type": "markdown",
      "metadata": {
        "id": "KA44a6KwLOAi"
      },
      "source": [
        "Sensors are a device that responds to heat, touch, light, pressure, motion,etc, and transmits measurements and data"
      ]
    },
    {
      "cell_type": "markdown",
      "metadata": {
        "id": "xTknHBCMLYWn"
      },
      "source": [
        "# Intro to Wearables\n",
        "![image info](https://mobisoftinfotech.com/resources/wp-content/uploads/2018/05/wearable_technology_healthcare_blog_mobisoft_infotech.png)"
      ]
    },
    {
      "cell_type": "markdown",
      "metadata": {
        "id": "38p9hy-CLec7"
      },
      "source": [
        " Wearable devices also known as “wearables” are electronic devices that can be worn, implanted, and even tattooed on people's bodys. The most common Wearable device is the smartwatch. The smartwatch is a device that is worn as a watch, and it can be used to call, text, play music, but the most impressive things they can do is sense your health. There are many other types of wearable devices that sense your health . For example,  fitness trackers, this kind of technology tracks the amount of exercise you get and the amount of steps you take, this device will commonly be in the shape of a watch or ring that can wrap around your leg, or your arm. Some wearables devices can also count calories, heart rate, pulse rate, temperature, sleep, and many more amazing things."
      ]
    },
    {
      "cell_type": "markdown",
      "metadata": {
        "id": "lTUhLW8XqDN5"
      },
      "source": [
        "# Intro to Oura Ring"
      ]
    },
    {
      "cell_type": "markdown",
      "metadata": {
        "id": "o7bEYbePAeXW"
      },
      "source": [
        "\n",
        "![image info](https://www.wareable.com/media/imager/202004/34880-original.jpg)"
      ]
    },
    {
      "cell_type": "markdown",
      "metadata": {
        "id": "uZVqidRdAfbL"
      },
      "source": [
        "Oura ring is a type of wearable device. It  uses three types of sensors to track your health. These sensors are:Negative temperature Coefficient sensor (NTC) which is used to measure body temperature.Infrared photoplethysmography sensors(PPG) which are used for heart rate and respiration sensing. 3D accelerometer which measures movement, sleep and physical activity.It uses the data collected from these sensors to help track your daily movements and the calories you’ve burned."
      ]
    },
    {
      "cell_type": "markdown",
      "metadata": {
        "id": "9A9a1phBAyA0"
      },
      "source": [
        "The Oura ring has been used in studies to detect early symptoms of Covid19\n",
        "\n",
        "\n"
      ]
    },
    {
      "cell_type": "markdown",
      "metadata": {
        "id": "pnO9d3s0AnZQ"
      },
      "source": [
        "#Our Prototype - BIA Oura Chatbot"
      ]
    },
    {
      "cell_type": "markdown",
      "metadata": {
        "id": "NdTq7lEUBJTC"
      },
      "source": [
        "Our HealthCare Chatbot Assistant is named BIA Oura. BIA Oura communicates with the Oura ring to find out your heart rate, temperature, sleep, and activity level. It will give you feedback on how you're doing (good or bad)  and it will answer questions related to your health.\n"
      ]
    },
    {
      "cell_type": "markdown",
      "metadata": {
        "id": "rHzGDgXaChj-"
      },
      "source": [
        " We started with an open source chatbot program. We modified it by changing the intents and retraining the machine learning model. We also wrote our own program that simulates the oura ring sensors and responds to what it is sensing."
      ]
    },
    {
      "cell_type": "markdown",
      "metadata": {
        "id": "jWdfcraUgHQl"
      },
      "source": [
        "\n",
        "## Code"
      ]
    },
    {
      "cell_type": "markdown",
      "metadata": {
        "id": "fzq8QE9hgTjV"
      },
      "source": [
        "### Create Intents\n",
        "\n"
      ]
    },
    {
      "cell_type": "code",
      "metadata": {
        "id": "POaIT7_WfXWy"
      },
      "source": [
        "intents = {\"intents\": [\n",
        "    {\n",
        "        \"tag\": \"working_late\",\n",
        "        \"patterns\": [\"Yes i have been up all night working on my project\",\n",
        "                        \"was awake all night completing my project\",\n",
        "                        \"I was awake doing my project\",\n",
        "                        \"I was doing my project\",\n",
        "                        \"I was up because my project needed to be done\",\n",
        "                        \"I was up last night doing work\",\n",
        "                        \"I was working late\",\n",
        "                        \"was working late\",\n",
        "                        \"was up late\" ,\n",
        "                        \"stayed up working\" ,\n",
        "                        \"I was up all night working\"\n",
        "\n",
        "],\n",
        "        \"responses\": [\"Its important not to let work keep you from sleeping. Here are the five ways you can improve your sleep at night: https://www.mayoclinichealthsystem.org/hometown-health/speaking-of-health/5-ways-to-get-better-sleep\"],\n",
        "        \"context\": [\"\"]\n",
        "    },\n",
        "        {\n",
        "        \"tag\": \"why_sleep\",\n",
        "        \"patterns\": [\"Why is it so important to get sleep\",\n",
        "                        \" Why should i sleep\",\n",
        "                        \"Why is it so important to sleep\",\n",
        "                        \"why do i need to sleep\",\n",
        "                        \"why is it good to sleep\",\n",
        "                        \"is it realy important to sleep \",\n",
        "                        \"do i need to sleep\",\n",
        "                        \"do i realy need to sleep\",\n",
        "                        \"Why do i have to sleep\" ,\n",
        "\n",
        "\n",
        "],\n",
        "        \"responses\": [\"Its important to get a lot of sleep  \\n Here are the five reasons you should get sleep at night: https://www.sclhealth.org/blog/2018/09/the-benefits-of-getting-a-full-night-sleep/\"],\n",
        "        \"context\": [\"\"]\n",
        "    },\n",
        "            {\n",
        "        \"tag\": \"Heartrate\",\n",
        "        \"patterns\": [\"Hey BIA oura what is my heartrate\",\n",
        "                        \"Hey BIA Oura can you tell me my heartrate\",\n",
        "                        \"tell me my heartrate BIA Oura\",\n",
        "                        \"Give me my heaartrate\",\n",
        "                        \"My heartrate BIA oura\",\n",
        "                        \"Gimme my heartrate now \",\n",
        "                        \"Can you tell me my heartrate\",\n",
        "                        \"Hey BIA Oura tell me my heartrate\",\n",
        "                        \"Hey BIA oura Give me my heartrate now\" ,\n",
        "                        \"Hey BIA Oura How is my heartrate\"\n",
        "\n",
        "],\n",
        "        \"responses\": [\"Your heartrate is ____ you need to _____ \\n Your heartrate is doing ____\"],\n",
        "        \"context\": [\"\"]\n",
        "    },\n",
        "                {\n",
        "        \"tag\": \"Sleep\",\n",
        "        \"patterns\": [\"Sleep\",\n",
        "                        \"BIA Oura how much sleep did i get\",\n",
        "                        \"BIA Oura What is my sleep time\",\n",
        "                        \"How did i sleep \",\n",
        "                        \"whats my sleep\",\n",
        "                        \"how was my sleep\",\n",
        "                        \"how much time did i sleep\",\n",
        "                        \"BIA Oura what is my sleeping time\",\n",
        "                        \"BIA Oura how was my nap\",\n",
        "                         \"BIA Oura how long did i nap\",\n",
        "                         \"BIA Oura was my nap good\",\n",
        "                        \"BIA Oura how long was my nap time\",\n",
        "                         \"BIA Oura how long was my sleep time\",\n",
        "                          \"How did i sleep\",\n",
        "                          \"How did i nap\",\n",
        "                     \"How much rest did i get\",\n",
        "                     \"How was my rest\"\n",
        "\n",
        "],\n",
        "        \"responses\": [\"\"],\n",
        "        \"context\": [\"\"]\n",
        "    },\n",
        "                    {\n",
        "        \"tag\": \"Temperature\",\n",
        "        \"patterns\": [\" BIA oura what is my Temperature\",\n",
        "                        \"BIA oura how is my temperature\",\n",
        "                        \"BIA Oura how is my temperature doing\",\n",
        "                        \"How is my temperature \",\n",
        "                        \"What is my temperature now\",\n",
        "                        \"how is my temperature doing\",\n",
        "                        \"How high or low is my temperature\",\n",
        "                        \"How high is my Temperature\",\n",
        "                        \"How low is my temperature\",\n",
        "                         \"BIA Oura how good is my temperature\",\n",
        "                         \"My temperature\",\n",
        "\n",
        "],\n",
        "        \"responses\": [\"\"],\n",
        "        \"context\": [\"\"]\n",
        "    },\n",
        "    {\n",
        "        \"tag\": \"thanks\",\n",
        "        \"patterns\": [\"Thank you\",\n",
        "                    \"Thanks\",\n",
        "                    \"I appreciate it\",\n",
        "                     \"Thanks for the help\",\n",
        "                     \"Thanks for the info\"],\n",
        "        \"responses\": [\"No problem, its my job\"],\n",
        "        \"context\": [\"\"]\n",
        "    }\n",
        "]}\n"
      ],
      "execution_count": null,
      "outputs": []
    },
    {
      "cell_type": "markdown",
      "metadata": {
        "id": "BcNNDKWemk9O"
      },
      "source": [
        "### Create Machine Learning Model"
      ]
    },
    {
      "cell_type": "code",
      "metadata": {
        "id": "5BWc7d60zVYn",
        "colab": {
          "base_uri": "https://localhost:8080/"
        },
        "outputId": "d27c91a0-5f89-4781-96d7-ca9e0852ab27"
      },
      "source": [
        "import keras.optimizers\n",
        "import nltk\n",
        "nltk.download('punkt')\n",
        "nltk.download('wordnet')\n",
        "nltk.download('omw-1.4')\n",
        "from nltk.stem import WordNetLemmatizer\n",
        "lemmatizer = WordNetLemmatizer()\n",
        "import json\n",
        "import pickle\n",
        "\n",
        "import numpy as np\n",
        "from keras.models import Sequential\n",
        "from keras.layers import Dense, Activation, Dropout\n",
        "from tensorflow.keras.optimizers import SGD\n",
        "import random"
      ],
      "execution_count": null,
      "outputs": [
        {
          "output_type": "stream",
          "name": "stderr",
          "text": [
            "[nltk_data] Downloading package punkt to /root/nltk_data...\n",
            "[nltk_data]   Package punkt is already up-to-date!\n",
            "[nltk_data] Downloading package wordnet to /root/nltk_data...\n",
            "[nltk_data]   Package wordnet is already up-to-date!\n",
            "[nltk_data] Downloading package omw-1.4 to /root/nltk_data...\n"
          ]
        }
      ]
    },
    {
      "cell_type": "code",
      "metadata": {
        "id": "NMUseeUjzjHu"
      },
      "source": [
        "words=[]\n",
        "classes = []\n",
        "documents = []\n",
        "ignore_words = ['?', '!']"
      ],
      "execution_count": null,
      "outputs": []
    },
    {
      "cell_type": "code",
      "metadata": {
        "id": "Cc3HUfbt36b_"
      },
      "source": [
        "for intent in intents['intents']:\n",
        "    for pattern in intent['patterns']:\n",
        "\n",
        "        # take each word and tokenize it\n",
        "        w = nltk.word_tokenize(pattern)\n",
        "        words.extend(w)\n",
        "        # adding documents\n",
        "        documents.append((w, intent['tag']))\n",
        "\n",
        "        # adding classes to our class list\n",
        "        if intent['tag'] not in classes:\n",
        "            classes.append(intent['tag'])"
      ],
      "execution_count": null,
      "outputs": []
    },
    {
      "cell_type": "code",
      "metadata": {
        "id": "cMRnKgzu4RcY",
        "colab": {
          "base_uri": "https://localhost:8080/"
        },
        "outputId": "78035bd4-338b-4134-c3d8-d2b8e764f92c"
      },
      "source": [
        "words = [lemmatizer.lemmatize(w.lower()) for w in words if w not in ignore_words]\n",
        "words = sorted(list(set(words)))\n",
        "\n",
        "classes = sorted(list(set(classes)))\n",
        "\n",
        "print (len(documents), \"documents\")\n",
        "\n",
        "print (len(classes), \"classes\", classes)\n",
        "\n",
        "print (len(words), \"unique lemmatized words\", words)\n",
        "\n",
        "\n",
        "pickle.dump(words,open('words.pkl','wb'))\n",
        "pickle.dump(classes,open('classes.pkl','wb'))"
      ],
      "execution_count": null,
      "outputs": [
        {
          "output_type": "stream",
          "name": "stdout",
          "text": [
            "63 documents\n",
            "6 classes ['Heartrate', 'Sleep', 'Temperature', 'thanks', 'why_sleep', 'working_late']\n",
            "69 unique lemmatized words ['all', 'appreciate', 'awake', 'be', 'because', 'been', 'bia', 'can', 'completing', 'did', 'do', 'doing', 'done', 'for', 'get', 'gim', 'give', 'good', 'have', 'heaartrate', 'heartrate', 'help', 'hey', 'high', 'how', 'i', 'important', 'info', 'is', 'it', 'last', 'late', 'long', 'low', 'me', 'much', 'my', 'nap', 'need', 'needed', 'night', 'now', 'on', 'or', 'oura', 'project', 'realy', 'rest', 'should', 'sleep', 'sleeping', 'so', 'stayed', 'tell', 'temperature', 'thank', 'thanks', 'the', 'time', 'to', 'up', 'wa', 'what', 'whats', 'why', 'work', 'working', 'yes', 'you']\n"
          ]
        }
      ]
    },
    {
      "cell_type": "code",
      "metadata": {
        "id": "hSoTg9yY4bjQ",
        "colab": {
          "base_uri": "https://localhost:8080/"
        },
        "outputId": "16869498-9414-41ff-9c03-7eff73f32046"
      },
      "source": [
        "# initializing training data\n",
        "training = []\n",
        "output_empty = [0] * len(classes)\n",
        "for doc in documents:\n",
        "    # initializing bag of words\n",
        "    bag = []\n",
        "    # list of tokenized words for the pattern\n",
        "    pattern_words = doc[0]\n",
        "    # lemmatize each word - create base word, in attempt to represent related words\n",
        "    pattern_words = [lemmatizer.lemmatize(word.lower()) for word in pattern_words]\n",
        "    # create our bag of words array with 1, if word match found in current pattern\n",
        "    for w in words:\n",
        "        bag.append(1) if w in pattern_words else bag.append(0)\n",
        "\n",
        "    # output is a '0' for each tag and '1' for current tag (for each pattern)\n",
        "    output_row = list(output_empty)\n",
        "    output_row[classes.index(doc[1])] = 1\n",
        "\n",
        "    training.append([bag, output_row])\n",
        "# shuffle our features and turn into np.array\n",
        "random.shuffle(training)\n",
        "training = np.array(training)\n",
        "# create train and test lists. X - patterns, Y - intents\n",
        "train_x = list(training[:,0])\n",
        "train_y = list(training[:,1])\n",
        "print(\"Training data created\")"
      ],
      "execution_count": null,
      "outputs": [
        {
          "output_type": "stream",
          "name": "stdout",
          "text": [
            "Training data created\n"
          ]
        },
        {
          "output_type": "stream",
          "name": "stderr",
          "text": [
            "/usr/local/lib/python3.7/dist-packages/ipykernel_launcher.py:22: VisibleDeprecationWarning: Creating an ndarray from ragged nested sequences (which is a list-or-tuple of lists-or-tuples-or ndarrays with different lengths or shapes) is deprecated. If you meant to do this, you must specify 'dtype=object' when creating the ndarray.\n"
          ]
        }
      ]
    },
    {
      "cell_type": "code",
      "metadata": {
        "id": "eFVn3_j84f7v",
        "colab": {
          "base_uri": "https://localhost:8080/"
        },
        "outputId": "828eef6d-b2ac-4d28-991d-09ab13f55709"
      },
      "source": [
        "# Create model - 3 layers. First layer 128 neurons, second layer 64 neurons and 3rd output layer contains number of neurons\n",
        "# equal to number of intents to predict output intent with softmax\n",
        "model = Sequential()\n",
        "model.add(Dense(128, input_shape=(len(train_x[0]),), activation='relu'))\n",
        "model.add(Dropout(0.5))\n",
        "model.add(Dense(64, activation='relu'))\n",
        "model.add(Dropout(0.5))\n",
        "model.add(Dense(len(train_y[0]), activation='softmax'))\n",
        "\n",
        "# Compile model. Stochastic gradient descent with Nesterov accelerated gradient gives good results for this model\n",
        "sgd = SGD(lr=0.01, decay=1e-6, momentum=0.9, nesterov=True)\n",
        "model.compile(loss='categorical_crossentropy', optimizer=sgd, metrics=['accuracy'])\n",
        "\n",
        "#fitting and saving the model\n",
        "hist = model.fit(np.array(train_x), np.array(train_y), epochs=200, batch_size=5, verbose=1)\n",
        "model.save('chatbot_model.h5', hist)\n",
        "\n",
        "print(\"model created\")"
      ],
      "execution_count": null,
      "outputs": [
        {
          "output_type": "stream",
          "name": "stderr",
          "text": [
            "/usr/local/lib/python3.7/dist-packages/keras/optimizer_v2/gradient_descent.py:102: UserWarning: The `lr` argument is deprecated, use `learning_rate` instead.\n",
            "  super(SGD, self).__init__(name, **kwargs)\n"
          ]
        },
        {
          "output_type": "stream",
          "name": "stdout",
          "text": [
            "Epoch 1/200\n",
            "13/13 [==============================] - 1s 3ms/step - loss: 1.7935 - accuracy: 0.1270\n",
            "Epoch 2/200\n",
            "13/13 [==============================] - 0s 3ms/step - loss: 1.7085 - accuracy: 0.2540\n",
            "Epoch 3/200\n",
            "13/13 [==============================] - 0s 3ms/step - loss: 1.3599 - accuracy: 0.4762\n",
            "Epoch 4/200\n",
            "13/13 [==============================] - 0s 2ms/step - loss: 1.1226 - accuracy: 0.7302\n",
            "Epoch 5/200\n",
            "13/13 [==============================] - 0s 3ms/step - loss: 1.0441 - accuracy: 0.6825\n",
            "Epoch 6/200\n",
            "13/13 [==============================] - 0s 2ms/step - loss: 0.6749 - accuracy: 0.8571\n",
            "Epoch 7/200\n",
            "13/13 [==============================] - 0s 3ms/step - loss: 0.6655 - accuracy: 0.7937\n",
            "Epoch 8/200\n",
            "13/13 [==============================] - 0s 2ms/step - loss: 0.4430 - accuracy: 0.8730\n",
            "Epoch 9/200\n",
            "13/13 [==============================] - 0s 3ms/step - loss: 0.3741 - accuracy: 0.8571\n",
            "Epoch 10/200\n",
            "13/13 [==============================] - 0s 2ms/step - loss: 0.2875 - accuracy: 0.9524\n",
            "Epoch 11/200\n",
            "13/13 [==============================] - 0s 2ms/step - loss: 0.4197 - accuracy: 0.8889\n",
            "Epoch 12/200\n",
            "13/13 [==============================] - 0s 2ms/step - loss: 0.2467 - accuracy: 0.9524\n",
            "Epoch 13/200\n",
            "13/13 [==============================] - 0s 2ms/step - loss: 0.2450 - accuracy: 0.9365\n",
            "Epoch 14/200\n",
            "13/13 [==============================] - 0s 2ms/step - loss: 0.1646 - accuracy: 0.9841\n",
            "Epoch 15/200\n",
            "13/13 [==============================] - 0s 2ms/step - loss: 0.1734 - accuracy: 0.9524\n",
            "Epoch 16/200\n",
            "13/13 [==============================] - 0s 2ms/step - loss: 0.1773 - accuracy: 0.9841\n",
            "Epoch 17/200\n",
            "13/13 [==============================] - 0s 3ms/step - loss: 0.1318 - accuracy: 0.9841\n",
            "Epoch 18/200\n",
            "13/13 [==============================] - 0s 3ms/step - loss: 0.1223 - accuracy: 0.9683\n",
            "Epoch 19/200\n",
            "13/13 [==============================] - 0s 3ms/step - loss: 0.0981 - accuracy: 1.0000\n",
            "Epoch 20/200\n",
            "13/13 [==============================] - 0s 3ms/step - loss: 0.0906 - accuracy: 0.9841\n",
            "Epoch 21/200\n",
            "13/13 [==============================] - 0s 2ms/step - loss: 0.1091 - accuracy: 0.9841\n",
            "Epoch 22/200\n",
            "13/13 [==============================] - 0s 3ms/step - loss: 0.1006 - accuracy: 0.9841\n",
            "Epoch 23/200\n",
            "13/13 [==============================] - 0s 3ms/step - loss: 0.0953 - accuracy: 0.9683\n",
            "Epoch 24/200\n",
            "13/13 [==============================] - 0s 2ms/step - loss: 0.0992 - accuracy: 0.9683\n",
            "Epoch 25/200\n",
            "13/13 [==============================] - 0s 2ms/step - loss: 0.1060 - accuracy: 0.9683\n",
            "Epoch 26/200\n",
            "13/13 [==============================] - 0s 2ms/step - loss: 0.1533 - accuracy: 0.9365\n",
            "Epoch 27/200\n",
            "13/13 [==============================] - 0s 2ms/step - loss: 0.0718 - accuracy: 0.9841\n",
            "Epoch 28/200\n",
            "13/13 [==============================] - 0s 2ms/step - loss: 0.1292 - accuracy: 0.9524\n",
            "Epoch 29/200\n",
            "13/13 [==============================] - 0s 2ms/step - loss: 0.0441 - accuracy: 1.0000\n",
            "Epoch 30/200\n",
            "13/13 [==============================] - 0s 3ms/step - loss: 0.0851 - accuracy: 0.9841\n",
            "Epoch 31/200\n",
            "13/13 [==============================] - 0s 2ms/step - loss: 0.0529 - accuracy: 1.0000\n",
            "Epoch 32/200\n",
            "13/13 [==============================] - 0s 2ms/step - loss: 0.0455 - accuracy: 0.9841\n",
            "Epoch 33/200\n",
            "13/13 [==============================] - 0s 3ms/step - loss: 0.0509 - accuracy: 1.0000\n",
            "Epoch 34/200\n",
            "13/13 [==============================] - 0s 3ms/step - loss: 0.0896 - accuracy: 0.9683\n",
            "Epoch 35/200\n",
            "13/13 [==============================] - 0s 2ms/step - loss: 0.0693 - accuracy: 0.9841\n",
            "Epoch 36/200\n",
            "13/13 [==============================] - 0s 2ms/step - loss: 0.0410 - accuracy: 1.0000\n",
            "Epoch 37/200\n",
            "13/13 [==============================] - 0s 2ms/step - loss: 0.0282 - accuracy: 1.0000\n",
            "Epoch 38/200\n",
            "13/13 [==============================] - 0s 3ms/step - loss: 0.0410 - accuracy: 1.0000\n",
            "Epoch 39/200\n",
            "13/13 [==============================] - 0s 2ms/step - loss: 0.0291 - accuracy: 0.9841\n",
            "Epoch 40/200\n",
            "13/13 [==============================] - 0s 2ms/step - loss: 0.0305 - accuracy: 1.0000\n",
            "Epoch 41/200\n",
            "13/13 [==============================] - 0s 2ms/step - loss: 0.0705 - accuracy: 0.9841\n",
            "Epoch 42/200\n",
            "13/13 [==============================] - 0s 2ms/step - loss: 0.0387 - accuracy: 1.0000\n",
            "Epoch 43/200\n",
            "13/13 [==============================] - 0s 2ms/step - loss: 0.0306 - accuracy: 1.0000\n",
            "Epoch 44/200\n",
            "13/13 [==============================] - 0s 2ms/step - loss: 0.0582 - accuracy: 0.9683\n",
            "Epoch 45/200\n",
            "13/13 [==============================] - 0s 2ms/step - loss: 0.0514 - accuracy: 1.0000\n",
            "Epoch 46/200\n",
            "13/13 [==============================] - 0s 3ms/step - loss: 0.0156 - accuracy: 1.0000\n",
            "Epoch 47/200\n",
            "13/13 [==============================] - 0s 3ms/step - loss: 0.0150 - accuracy: 1.0000\n",
            "Epoch 48/200\n",
            "13/13 [==============================] - 0s 2ms/step - loss: 0.0058 - accuracy: 1.0000\n",
            "Epoch 49/200\n",
            "13/13 [==============================] - 0s 3ms/step - loss: 0.0070 - accuracy: 1.0000\n",
            "Epoch 50/200\n",
            "13/13 [==============================] - 0s 3ms/step - loss: 0.0383 - accuracy: 0.9841\n",
            "Epoch 51/200\n",
            "13/13 [==============================] - 0s 2ms/step - loss: 0.0480 - accuracy: 0.9841\n",
            "Epoch 52/200\n",
            "13/13 [==============================] - 0s 3ms/step - loss: 0.0302 - accuracy: 0.9841\n",
            "Epoch 53/200\n",
            "13/13 [==============================] - 0s 3ms/step - loss: 0.0390 - accuracy: 1.0000\n",
            "Epoch 54/200\n",
            "13/13 [==============================] - 0s 4ms/step - loss: 0.0336 - accuracy: 1.0000\n",
            "Epoch 55/200\n",
            "13/13 [==============================] - 0s 2ms/step - loss: 0.0548 - accuracy: 0.9841\n",
            "Epoch 56/200\n",
            "13/13 [==============================] - 0s 2ms/step - loss: 0.0465 - accuracy: 0.9841\n",
            "Epoch 57/200\n",
            "13/13 [==============================] - 0s 2ms/step - loss: 0.0241 - accuracy: 0.9841\n",
            "Epoch 58/200\n",
            "13/13 [==============================] - 0s 2ms/step - loss: 0.0268 - accuracy: 1.0000\n",
            "Epoch 59/200\n",
            "13/13 [==============================] - 0s 3ms/step - loss: 0.0359 - accuracy: 1.0000\n",
            "Epoch 60/200\n",
            "13/13 [==============================] - 0s 2ms/step - loss: 0.0473 - accuracy: 0.9841\n",
            "Epoch 61/200\n",
            "13/13 [==============================] - 0s 3ms/step - loss: 0.0084 - accuracy: 1.0000\n",
            "Epoch 62/200\n",
            "13/13 [==============================] - 0s 2ms/step - loss: 0.0179 - accuracy: 1.0000\n",
            "Epoch 63/200\n",
            "13/13 [==============================] - 0s 3ms/step - loss: 0.0130 - accuracy: 1.0000\n",
            "Epoch 64/200\n",
            "13/13 [==============================] - 0s 2ms/step - loss: 0.0673 - accuracy: 0.9683\n",
            "Epoch 65/200\n",
            "13/13 [==============================] - 0s 2ms/step - loss: 0.0212 - accuracy: 0.9841\n",
            "Epoch 66/200\n",
            "13/13 [==============================] - 0s 2ms/step - loss: 0.0182 - accuracy: 1.0000\n",
            "Epoch 67/200\n",
            "13/13 [==============================] - 0s 2ms/step - loss: 0.0377 - accuracy: 0.9841\n",
            "Epoch 68/200\n",
            "13/13 [==============================] - 0s 2ms/step - loss: 0.0045 - accuracy: 1.0000\n",
            "Epoch 69/200\n",
            "13/13 [==============================] - 0s 3ms/step - loss: 0.0190 - accuracy: 1.0000\n",
            "Epoch 70/200\n",
            "13/13 [==============================] - 0s 3ms/step - loss: 0.0169 - accuracy: 1.0000\n",
            "Epoch 71/200\n",
            "13/13 [==============================] - 0s 2ms/step - loss: 0.0443 - accuracy: 0.9841\n",
            "Epoch 72/200\n",
            "13/13 [==============================] - 0s 2ms/step - loss: 0.0049 - accuracy: 1.0000\n",
            "Epoch 73/200\n",
            "13/13 [==============================] - 0s 2ms/step - loss: 0.0205 - accuracy: 1.0000\n",
            "Epoch 74/200\n",
            "13/13 [==============================] - 0s 2ms/step - loss: 0.0146 - accuracy: 1.0000\n",
            "Epoch 75/200\n",
            "13/13 [==============================] - 0s 2ms/step - loss: 0.0267 - accuracy: 1.0000\n",
            "Epoch 76/200\n",
            "13/13 [==============================] - 0s 2ms/step - loss: 0.0423 - accuracy: 0.9841\n",
            "Epoch 77/200\n",
            "13/13 [==============================] - 0s 3ms/step - loss: 0.0310 - accuracy: 0.9841\n",
            "Epoch 78/200\n",
            "13/13 [==============================] - 0s 2ms/step - loss: 0.0335 - accuracy: 1.0000\n",
            "Epoch 79/200\n",
            "13/13 [==============================] - 0s 2ms/step - loss: 0.0140 - accuracy: 1.0000\n",
            "Epoch 80/200\n",
            "13/13 [==============================] - 0s 3ms/step - loss: 0.0202 - accuracy: 1.0000\n",
            "Epoch 81/200\n",
            "13/13 [==============================] - 0s 2ms/step - loss: 0.0185 - accuracy: 1.0000\n",
            "Epoch 82/200\n",
            "13/13 [==============================] - 0s 2ms/step - loss: 0.0456 - accuracy: 0.9841\n",
            "Epoch 83/200\n",
            "13/13 [==============================] - 0s 3ms/step - loss: 0.0185 - accuracy: 1.0000\n",
            "Epoch 84/200\n",
            "13/13 [==============================] - 0s 2ms/step - loss: 0.0250 - accuracy: 0.9841\n",
            "Epoch 85/200\n",
            "13/13 [==============================] - 0s 2ms/step - loss: 0.0141 - accuracy: 1.0000\n",
            "Epoch 86/200\n",
            "13/13 [==============================] - 0s 2ms/step - loss: 0.0158 - accuracy: 1.0000\n",
            "Epoch 87/200\n",
            "13/13 [==============================] - 0s 3ms/step - loss: 0.0321 - accuracy: 1.0000\n",
            "Epoch 88/200\n",
            "13/13 [==============================] - 0s 2ms/step - loss: 0.0150 - accuracy: 1.0000\n",
            "Epoch 89/200\n",
            "13/13 [==============================] - 0s 2ms/step - loss: 0.0060 - accuracy: 1.0000\n",
            "Epoch 90/200\n",
            "13/13 [==============================] - 0s 3ms/step - loss: 0.0226 - accuracy: 1.0000\n",
            "Epoch 91/200\n",
            "13/13 [==============================] - 0s 3ms/step - loss: 0.0163 - accuracy: 1.0000\n",
            "Epoch 92/200\n",
            "13/13 [==============================] - 0s 3ms/step - loss: 0.0130 - accuracy: 1.0000\n",
            "Epoch 93/200\n",
            "13/13 [==============================] - 0s 3ms/step - loss: 0.0159 - accuracy: 1.0000\n",
            "Epoch 94/200\n",
            "13/13 [==============================] - 0s 2ms/step - loss: 0.0252 - accuracy: 1.0000\n",
            "Epoch 95/200\n",
            "13/13 [==============================] - 0s 2ms/step - loss: 0.0132 - accuracy: 1.0000\n",
            "Epoch 96/200\n",
            "13/13 [==============================] - 0s 2ms/step - loss: 0.0051 - accuracy: 1.0000\n",
            "Epoch 97/200\n",
            "13/13 [==============================] - 0s 2ms/step - loss: 0.0141 - accuracy: 1.0000\n",
            "Epoch 98/200\n",
            "13/13 [==============================] - 0s 3ms/step - loss: 0.0031 - accuracy: 1.0000\n",
            "Epoch 99/200\n",
            "13/13 [==============================] - 0s 2ms/step - loss: 0.0075 - accuracy: 1.0000\n",
            "Epoch 100/200\n",
            "13/13 [==============================] - 0s 2ms/step - loss: 0.0276 - accuracy: 0.9841\n",
            "Epoch 101/200\n",
            "13/13 [==============================] - 0s 2ms/step - loss: 0.0147 - accuracy: 1.0000\n",
            "Epoch 102/200\n",
            "13/13 [==============================] - 0s 3ms/step - loss: 0.0171 - accuracy: 1.0000\n",
            "Epoch 103/200\n",
            "13/13 [==============================] - 0s 2ms/step - loss: 0.0148 - accuracy: 1.0000\n",
            "Epoch 104/200\n",
            "13/13 [==============================] - 0s 2ms/step - loss: 0.0240 - accuracy: 1.0000\n",
            "Epoch 105/200\n",
            "13/13 [==============================] - 0s 3ms/step - loss: 0.0088 - accuracy: 1.0000\n",
            "Epoch 106/200\n",
            "13/13 [==============================] - 0s 5ms/step - loss: 0.0106 - accuracy: 1.0000\n",
            "Epoch 107/200\n",
            "13/13 [==============================] - 0s 3ms/step - loss: 0.0037 - accuracy: 1.0000\n",
            "Epoch 108/200\n",
            "13/13 [==============================] - 0s 3ms/step - loss: 0.0116 - accuracy: 1.0000\n",
            "Epoch 109/200\n",
            "13/13 [==============================] - 0s 3ms/step - loss: 0.0066 - accuracy: 1.0000\n",
            "Epoch 110/200\n",
            "13/13 [==============================] - 0s 2ms/step - loss: 0.0029 - accuracy: 1.0000\n",
            "Epoch 111/200\n",
            "13/13 [==============================] - 0s 2ms/step - loss: 0.0218 - accuracy: 0.9841\n",
            "Epoch 112/200\n",
            "13/13 [==============================] - 0s 3ms/step - loss: 0.0139 - accuracy: 1.0000\n",
            "Epoch 113/200\n",
            "13/13 [==============================] - 0s 2ms/step - loss: 0.0095 - accuracy: 1.0000\n",
            "Epoch 114/200\n",
            "13/13 [==============================] - 0s 3ms/step - loss: 0.0315 - accuracy: 1.0000\n",
            "Epoch 115/200\n",
            "13/13 [==============================] - 0s 3ms/step - loss: 0.0096 - accuracy: 1.0000\n",
            "Epoch 116/200\n",
            "13/13 [==============================] - 0s 3ms/step - loss: 0.0038 - accuracy: 1.0000\n",
            "Epoch 117/200\n",
            "13/13 [==============================] - 0s 3ms/step - loss: 0.0197 - accuracy: 0.9841\n",
            "Epoch 118/200\n",
            "13/13 [==============================] - 0s 3ms/step - loss: 0.0037 - accuracy: 1.0000\n",
            "Epoch 119/200\n",
            "13/13 [==============================] - 0s 2ms/step - loss: 0.0078 - accuracy: 1.0000\n",
            "Epoch 120/200\n",
            "13/13 [==============================] - 0s 2ms/step - loss: 0.0077 - accuracy: 1.0000\n",
            "Epoch 121/200\n",
            "13/13 [==============================] - 0s 3ms/step - loss: 0.0093 - accuracy: 1.0000\n",
            "Epoch 122/200\n",
            "13/13 [==============================] - 0s 2ms/step - loss: 0.0023 - accuracy: 1.0000\n",
            "Epoch 123/200\n",
            "13/13 [==============================] - 0s 2ms/step - loss: 0.0129 - accuracy: 1.0000\n",
            "Epoch 124/200\n",
            "13/13 [==============================] - 0s 2ms/step - loss: 0.0074 - accuracy: 1.0000\n",
            "Epoch 125/200\n",
            "13/13 [==============================] - 0s 3ms/step - loss: 0.0048 - accuracy: 1.0000\n",
            "Epoch 126/200\n",
            "13/13 [==============================] - 0s 2ms/step - loss: 0.0190 - accuracy: 1.0000\n",
            "Epoch 127/200\n",
            "13/13 [==============================] - 0s 2ms/step - loss: 0.0282 - accuracy: 0.9841\n",
            "Epoch 128/200\n",
            "13/13 [==============================] - 0s 2ms/step - loss: 0.0219 - accuracy: 1.0000\n",
            "Epoch 129/200\n",
            "13/13 [==============================] - 0s 3ms/step - loss: 0.0053 - accuracy: 1.0000\n",
            "Epoch 130/200\n",
            "13/13 [==============================] - 0s 2ms/step - loss: 0.0067 - accuracy: 1.0000\n",
            "Epoch 131/200\n",
            "13/13 [==============================] - 0s 2ms/step - loss: 0.0047 - accuracy: 1.0000\n",
            "Epoch 132/200\n",
            "13/13 [==============================] - 0s 2ms/step - loss: 0.0018 - accuracy: 1.0000\n",
            "Epoch 133/200\n",
            "13/13 [==============================] - 0s 2ms/step - loss: 0.0124 - accuracy: 1.0000\n",
            "Epoch 134/200\n",
            "13/13 [==============================] - 0s 2ms/step - loss: 0.0234 - accuracy: 0.9841\n",
            "Epoch 135/200\n",
            "13/13 [==============================] - 0s 3ms/step - loss: 0.0129 - accuracy: 1.0000\n",
            "Epoch 136/200\n",
            "13/13 [==============================] - 0s 2ms/step - loss: 0.0436 - accuracy: 0.9841\n",
            "Epoch 137/200\n",
            "13/13 [==============================] - 0s 2ms/step - loss: 0.0098 - accuracy: 1.0000\n",
            "Epoch 138/200\n",
            "13/13 [==============================] - 0s 2ms/step - loss: 0.0028 - accuracy: 1.0000\n",
            "Epoch 139/200\n",
            "13/13 [==============================] - 0s 3ms/step - loss: 0.0061 - accuracy: 1.0000\n",
            "Epoch 140/200\n",
            "13/13 [==============================] - 0s 3ms/step - loss: 0.0064 - accuracy: 1.0000\n",
            "Epoch 141/200\n",
            "13/13 [==============================] - 0s 2ms/step - loss: 0.0064 - accuracy: 1.0000\n",
            "Epoch 142/200\n",
            "13/13 [==============================] - 0s 3ms/step - loss: 0.0018 - accuracy: 1.0000\n",
            "Epoch 143/200\n",
            "13/13 [==============================] - 0s 3ms/step - loss: 0.0013 - accuracy: 1.0000\n",
            "Epoch 144/200\n",
            "13/13 [==============================] - 0s 3ms/step - loss: 0.0076 - accuracy: 1.0000\n",
            "Epoch 145/200\n",
            "13/13 [==============================] - 0s 2ms/step - loss: 0.0029 - accuracy: 1.0000\n",
            "Epoch 146/200\n",
            "13/13 [==============================] - 0s 3ms/step - loss: 0.0076 - accuracy: 1.0000\n",
            "Epoch 147/200\n",
            "13/13 [==============================] - 0s 3ms/step - loss: 0.0067 - accuracy: 1.0000\n",
            "Epoch 148/200\n",
            "13/13 [==============================] - 0s 2ms/step - loss: 0.0123 - accuracy: 1.0000\n",
            "Epoch 149/200\n",
            "13/13 [==============================] - 0s 3ms/step - loss: 0.0242 - accuracy: 0.9841\n",
            "Epoch 150/200\n",
            "13/13 [==============================] - 0s 3ms/step - loss: 0.0281 - accuracy: 0.9841\n",
            "Epoch 151/200\n",
            "13/13 [==============================] - 0s 3ms/step - loss: 0.0085 - accuracy: 1.0000\n",
            "Epoch 152/200\n",
            "13/13 [==============================] - 0s 2ms/step - loss: 0.0126 - accuracy: 1.0000\n",
            "Epoch 153/200\n",
            "13/13 [==============================] - 0s 2ms/step - loss: 0.0039 - accuracy: 1.0000\n",
            "Epoch 154/200\n",
            "13/13 [==============================] - 0s 2ms/step - loss: 0.0055 - accuracy: 1.0000\n",
            "Epoch 155/200\n",
            "13/13 [==============================] - 0s 3ms/step - loss: 0.0144 - accuracy: 1.0000\n",
            "Epoch 156/200\n",
            "13/13 [==============================] - 0s 2ms/step - loss: 0.0089 - accuracy: 1.0000\n",
            "Epoch 157/200\n",
            "13/13 [==============================] - 0s 2ms/step - loss: 0.0035 - accuracy: 1.0000\n",
            "Epoch 158/200\n",
            "13/13 [==============================] - 0s 3ms/step - loss: 0.0227 - accuracy: 0.9841\n",
            "Epoch 159/200\n",
            "13/13 [==============================] - 0s 3ms/step - loss: 0.0072 - accuracy: 1.0000\n",
            "Epoch 160/200\n",
            "13/13 [==============================] - 0s 2ms/step - loss: 0.0034 - accuracy: 1.0000\n",
            "Epoch 161/200\n",
            "13/13 [==============================] - 0s 2ms/step - loss: 0.0097 - accuracy: 1.0000\n",
            "Epoch 162/200\n",
            "13/13 [==============================] - 0s 3ms/step - loss: 0.0017 - accuracy: 1.0000\n",
            "Epoch 163/200\n",
            "13/13 [==============================] - 0s 2ms/step - loss: 0.0147 - accuracy: 0.9841\n",
            "Epoch 164/200\n",
            "13/13 [==============================] - 0s 2ms/step - loss: 0.0052 - accuracy: 1.0000\n",
            "Epoch 165/200\n",
            "13/13 [==============================] - 0s 2ms/step - loss: 0.0039 - accuracy: 1.0000\n",
            "Epoch 166/200\n",
            "13/13 [==============================] - 0s 3ms/step - loss: 0.0069 - accuracy: 1.0000\n",
            "Epoch 167/200\n",
            "13/13 [==============================] - 0s 2ms/step - loss: 0.0281 - accuracy: 0.9841\n",
            "Epoch 168/200\n",
            "13/13 [==============================] - 0s 2ms/step - loss: 0.0025 - accuracy: 1.0000\n",
            "Epoch 169/200\n",
            "13/13 [==============================] - 0s 3ms/step - loss: 0.0076 - accuracy: 1.0000\n",
            "Epoch 170/200\n",
            "13/13 [==============================] - 0s 3ms/step - loss: 0.0063 - accuracy: 1.0000\n",
            "Epoch 171/200\n",
            "13/13 [==============================] - 0s 3ms/step - loss: 0.0461 - accuracy: 0.9841\n",
            "Epoch 172/200\n",
            "13/13 [==============================] - 0s 2ms/step - loss: 0.0017 - accuracy: 1.0000\n",
            "Epoch 173/200\n",
            "13/13 [==============================] - 0s 3ms/step - loss: 0.0033 - accuracy: 1.0000\n",
            "Epoch 174/200\n",
            "13/13 [==============================] - 0s 2ms/step - loss: 0.0049 - accuracy: 1.0000\n",
            "Epoch 175/200\n",
            "13/13 [==============================] - 0s 2ms/step - loss: 0.0027 - accuracy: 1.0000\n",
            "Epoch 176/200\n",
            "13/13 [==============================] - 0s 3ms/step - loss: 0.0055 - accuracy: 1.0000\n",
            "Epoch 177/200\n",
            "13/13 [==============================] - 0s 2ms/step - loss: 0.0036 - accuracy: 1.0000\n",
            "Epoch 178/200\n",
            "13/13 [==============================] - 0s 2ms/step - loss: 3.4874e-04 - accuracy: 1.0000\n",
            "Epoch 179/200\n",
            "13/13 [==============================] - 0s 2ms/step - loss: 0.0045 - accuracy: 1.0000\n",
            "Epoch 180/200\n",
            "13/13 [==============================] - 0s 3ms/step - loss: 0.0024 - accuracy: 1.0000\n",
            "Epoch 181/200\n",
            "13/13 [==============================] - 0s 2ms/step - loss: 0.0018 - accuracy: 1.0000\n",
            "Epoch 182/200\n",
            "13/13 [==============================] - 0s 2ms/step - loss: 0.0022 - accuracy: 1.0000\n",
            "Epoch 183/200\n",
            "13/13 [==============================] - 0s 3ms/step - loss: 0.0243 - accuracy: 1.0000\n",
            "Epoch 184/200\n",
            "13/13 [==============================] - 0s 3ms/step - loss: 5.5750e-04 - accuracy: 1.0000\n",
            "Epoch 185/200\n",
            "13/13 [==============================] - 0s 3ms/step - loss: 0.0029 - accuracy: 1.0000\n",
            "Epoch 186/200\n",
            "13/13 [==============================] - 0s 3ms/step - loss: 0.0103 - accuracy: 1.0000\n",
            "Epoch 187/200\n",
            "13/13 [==============================] - 0s 3ms/step - loss: 0.0012 - accuracy: 1.0000\n",
            "Epoch 188/200\n",
            "13/13 [==============================] - 0s 2ms/step - loss: 0.0087 - accuracy: 1.0000\n",
            "Epoch 189/200\n",
            "13/13 [==============================] - 0s 2ms/step - loss: 0.0124 - accuracy: 1.0000\n",
            "Epoch 190/200\n",
            "13/13 [==============================] - 0s 2ms/step - loss: 0.0261 - accuracy: 0.9841\n",
            "Epoch 191/200\n",
            "13/13 [==============================] - 0s 3ms/step - loss: 0.0020 - accuracy: 1.0000\n",
            "Epoch 192/200\n",
            "13/13 [==============================] - 0s 2ms/step - loss: 0.0046 - accuracy: 1.0000\n",
            "Epoch 193/200\n",
            "13/13 [==============================] - 0s 2ms/step - loss: 0.0078 - accuracy: 1.0000\n",
            "Epoch 194/200\n",
            "13/13 [==============================] - 0s 2ms/step - loss: 0.0012 - accuracy: 1.0000\n",
            "Epoch 195/200\n",
            "13/13 [==============================] - 0s 3ms/step - loss: 7.7728e-04 - accuracy: 1.0000\n",
            "Epoch 196/200\n",
            "13/13 [==============================] - 0s 2ms/step - loss: 6.0206e-04 - accuracy: 1.0000\n",
            "Epoch 197/200\n",
            "13/13 [==============================] - 0s 2ms/step - loss: 0.0034 - accuracy: 1.0000\n",
            "Epoch 198/200\n",
            "13/13 [==============================] - 0s 3ms/step - loss: 0.0020 - accuracy: 1.0000\n",
            "Epoch 199/200\n",
            "13/13 [==============================] - 0s 3ms/step - loss: 0.0076 - accuracy: 1.0000\n",
            "Epoch 200/200\n",
            "13/13 [==============================] - 0s 3ms/step - loss: 0.0016 - accuracy: 1.0000\n",
            "model created\n"
          ]
        }
      ]
    },
    {
      "cell_type": "code",
      "metadata": {
        "id": "A9vLajSQ4iuA"
      },
      "source": [
        "from keras.models import load_model\n",
        "model = load_model('chatbot_model.h5')\n",
        "import json\n",
        "import random\n",
        "words = pickle.load(open('words.pkl','rb'))\n",
        "classes = pickle.load(open('classes.pkl','rb'))"
      ],
      "execution_count": null,
      "outputs": []
    },
    {
      "cell_type": "code",
      "metadata": {
        "id": "G58r79mq4tqG"
      },
      "source": [
        "def clean_up_sentence(sentence):\n",
        "    sentence_words = nltk.word_tokenize(sentence)\n",
        "    sentence_words = [lemmatizer.lemmatize(word.lower()) for word in sentence_words]\n",
        "    return sentence_words\n",
        "\n",
        "# return bag of words array: 0 or 1 for each word in the bag that exists in the sentence\n",
        "\n",
        "def bow(sentence, words, show_details=True):\n",
        "    # tokenize the pattern\n",
        "    sentence_words = clean_up_sentence(sentence)\n",
        "    # bag of words - matrix of N words, vocabulary matrix\n",
        "    bag = [0]*len(words)\n",
        "    for s in sentence_words:\n",
        "        for i,w in enumerate(words):\n",
        "            if w == s:\n",
        "                # assign 1 if current word is in the vocabulary position\n",
        "                bag[i] = 1\n",
        "                if show_details:\n",
        "                    print (\"found in bag: %s\" % w)\n",
        "    return(np.array(bag))\n",
        "\n",
        "def predict_class(sentence, model):\n",
        "    # filter out predictions below a threshold\n",
        "    p = bow(sentence, words,show_details=False)\n",
        "    res = model.predict(np.array([p]))[0]\n",
        "    ERROR_THRESHOLD = 0.25\n",
        "    results = [[i,r] for i,r in enumerate(res) if r>ERROR_THRESHOLD]\n",
        "    # sort by strength of probability\n",
        "    results.sort(key=lambda x: x[1], reverse=True)\n",
        "    return_list = []\n",
        "    for r in results:\n",
        "        return_list.append({\"intent\": classes[r[0]], \"probability\": str(r[1])})\n",
        "    return return_list\n",
        "\n",
        "def getResponse(ints, intents_json):\n",
        "    tag = ints[0]['intent']\n",
        "    list_of_intents = intents_json['intents']\n",
        "    for i in list_of_intents:\n",
        "        if(i['tag']== tag):\n",
        "            result = random.choice(i['responses'])\n",
        "            break\n",
        "    return result\n",
        "\n",
        "def chatbot_response(msg):\n",
        "    ints = predict_class(msg, model)\n",
        "    res = getResponse(ints, intents)\n",
        "    return res"
      ],
      "execution_count": null,
      "outputs": []
    },
    {
      "cell_type": "code",
      "metadata": {
        "id": "p51hrLJO_ZbQ",
        "colab": {
          "base_uri": "https://localhost:8080/",
          "height": 52
        },
        "outputId": "e4a0b848-ff08-4b10-d68d-da349606e3a4"
      },
      "source": [
        "predict_class('I was up all night', model)\n",
        "chatbot_response('why do i need to sleep')\n",
        "\n"
      ],
      "execution_count": null,
      "outputs": [
        {
          "output_type": "execute_result",
          "data": {
            "text/plain": [
              "'Its important to get a lot of sleep  \\n Here are the five reasons you should get sleep at night: https://www.sclhealth.org/blog/2018/09/the-benefits-of-getting-a-full-night-sleep/'"
            ],
            "application/vnd.google.colaboratory.intrinsic+json": {
              "type": "string"
            }
          },
          "metadata": {},
          "execution_count": 14
        }
      ]
    },
    {
      "cell_type": "markdown",
      "metadata": {
        "id": "rrKGedKThBew"
      },
      "source": [
        "##  Demo 1"
      ]
    },
    {
      "cell_type": "markdown",
      "metadata": {
        "id": "47KA3K9hDHNK"
      },
      "source": [
        "This program simulates the chatbot responding to questions about your health by reading the sensor values from the Oura ring."
      ]
    },
    {
      "cell_type": "code",
      "metadata": {
        "id": "hfecFSukf8Jr"
      },
      "source": [
        "#@title Oura Ring Sensor Readings {display-mode: \"form\"}\n",
        "#@markdown Press play and type in questions about your heartrate, temperature, or sleep.\n",
        "#@markdown Type stop when you are finished\n",
        "\n",
        "msg = ''\n",
        "while msg != 'stop':\n",
        "  msg = input('')\n",
        "  predict  = predict_class(msg, model)\n",
        "\n",
        "  if predict[0]['intent'] == 'Heartrate':\n",
        "    print('Your heartrate is: ' + str(heartrate) )\n",
        "  if predict[0]['intent'] == 'Sleep':\n",
        "    print('You got : ' + str(sleep) + ' hours of sleep' )\n",
        "  if predict[0]['intent'] == 'Temperature':\n",
        "    print('Your temperature is : ' + str(temperature) )"
      ],
      "execution_count": null,
      "outputs": []
    },
    {
      "cell_type": "markdown",
      "metadata": {
        "id": "r2UQhf28GBCb"
      },
      "source": [
        "# Demo 2"
      ]
    },
    {
      "cell_type": "markdown",
      "metadata": {
        "id": "NeU6b3ddDQAN"
      },
      "source": [
        "This demo is simulating the Oura ring sensing your health values. You can drag the slider to change the value. If it is sensing that any health value is too low or too high it will comment.  "
      ]
    },
    {
      "cell_type": "code",
      "metadata": {
        "id": "IpV7OhLCZ-JJ",
        "colab": {
          "base_uri": "https://localhost:8080/"
        },
        "outputId": "2ed284f2-af27-443c-debf-6b6338667871"
      },
      "source": [
        "#@title Oura Ring Sensor Readings {display-mode: \"form\"}\n",
        "#@markdown Change the values below to simulate the readings from the Oura sensors.\n",
        "#@markdown Press play to send those values to the BIA Oura Ring Chatbot.\n",
        "\n",
        "sleep = 22 #@param {type:\"slider\", min:0, max:24, step:1}\n",
        "temperature  = 93 #@param {type:\"slider\", min:90, max:110, step:1}\n",
        "heartrate = 128  #@param {type:\"slider\", min:70, max:200, step:1}\n",
        "age = 197  #@param {type:\"slider\", min:2, max:200, step:1}\n",
        "########################Begin Sense Sleep###########################\n",
        "\n",
        "#Check health values and send message to the user\n",
        "if temperature < 95:\n",
        " #program oura to say something to start the conversation\n",
        " print(\"I noticed that your temperature is too low\")\n",
        "\n",
        "elif temperature > 104:\n",
        " #program oura to say something to start the conversation\n",
        " print(\"I noticed that your temperature is too high\")\n",
        "########################End Sense Sleep###########################\n",
        "\n",
        "\n",
        "\n",
        "########################Begin Sense Sleep###########################\n",
        "\n",
        "\n",
        "#Check health values and send message to the user\n",
        "elif sleep < 7:\n",
        " #program oura to say something to start the conversation\n",
        " print(\"I notice you did not get a lot of sleep\")\n",
        "########################End Sense Sleep###########################\n",
        "\n",
        "\n",
        "#Check health values and send message to the user\n",
        "elif heartrate > 170:\n",
        "   #program oura to say something to start the conversation\n",
        " print(\"I notice that your heartrate is high\")\n",
        "\n",
        "elif heartrate > 170 and age > 20:\n",
        " #program oura to say something to start the conversation\n",
        " print(\"I notice that your heartrate is high\")\n",
        "elif heartrate > 162 and age > 30:\n",
        " #program oura to say something to start the conversation\n",
        " print(\"I notice that your heartrate is high\")\n",
        "elif heartrate > 157 and age > 35:\n",
        " #program oura to say something to start the conversation\n",
        " print(\"I notice that your heartrate is high\")\n",
        "elif heartrate > 153 and age > 40:\n",
        " #program oura to say something to start the conversation\n",
        " print(\"I notice that your heartrate is high\")\n",
        "elif heartrate > 149 and age > 45:\n",
        " #program oura to say something to start the conversation\n",
        " print(\"I notice that your heartrate is high\")\n",
        "elif heartrate > 145 and age > 50:\n",
        " #program oura to say something to start the conversation\n",
        " print(\"I notice that your heartrate is high\")\n",
        "elif heartrate > 140 and age > 55:\n",
        " #program oura to say something to start the conversation\n",
        " print(\"I notice that your heartrate is high\")\n",
        "elif heartrate > 136 and age > 60:\n",
        " #program oura to say something to start the conversation\n",
        " print(\"I notice that your heartrate is high\")\n",
        "elif heartrate > 132 and age > 65:\n",
        " #program oura to say something to start the conversation\n",
        " print(\"I notice that your heartrate is high\")\n",
        "elif heartrate > 128 and age > 70:\n",
        " #program oura to say something to start the conversation\n",
        " print(\"I notice that your heartrate is high\")\n",
        "\n",
        "\n",
        "#Write Code to start chatbot convo here:\n",
        "msg = ''\n",
        "while msg != 'stop':\n",
        "  if msg == 'stop':\n",
        "    print('Ending Simulation')\n",
        "  else:\n",
        "    msg = input('')\n",
        "    print(chatbot_response(msg))"
      ],
      "execution_count": null,
      "outputs": [
        {
          "output_type": "stream",
          "name": "stdout",
          "text": [
            "I noticed that your temperature is too low\n",
            "sto\n",
            "No problem, its my job\n",
            "stop\n",
            "No problem, its my job\n"
          ]
        }
      ]
    },
    {
      "cell_type": "markdown",
      "metadata": {
        "id": "Fyap-cVebuod"
      },
      "source": [
        "# What We Learned\n",
        "- Sensors\n",
        "- Wearable Devices\n",
        "- Machine Learning\n",
        "- Natural Language Processing\n",
        "- How to build a chatbot prototype!!!"
      ]
    },
    {
      "cell_type": "markdown",
      "metadata": {
        "id": "FJ0FiCYmb03b"
      },
      "source": [
        "# Sources\n",
        "\n",
        "- We referenced American Heart Association to learn about healthy heart rates\n",
        "  - https://www.heart.org/en/healthy-living/fitness/fitness-basics/target-heart-rates\n",
        "  - We referenced the Oura ring website to learn more about the wearable and the oura ring.\n",
        "  - https://blog.ouraring.com/\n",
        "- We refenced the Washington Post to learn about how Oura can be used to help with Covid 19\n",
        "  - https://www.washingtonpost.com/technology/2020/05/28/wearable-coronavirus-detect/\n",
        "- We also referenced the open source code we found to create our chatbot.\n",
        "  - https://towardsdatascience.com/how-to-create-a-chatbot-with-python-deep-learning-in-less-than-an-hour-56a063bdfc44\n"
      ]
    }
  ]
}